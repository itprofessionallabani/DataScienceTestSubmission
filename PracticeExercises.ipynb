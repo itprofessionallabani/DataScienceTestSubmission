{
  "metadata": {
    "kernelspec": {
      "name": "xeus-python",
      "display_name": "Python (XPython)",
      "language": "python"
    },
    "language_info": {
      "file_extension": ".py",
      "mimetype": "text/x-python",
      "name": "python",
      "version": "3.10.2"
    }
  },
  "nbformat_minor": 4,
  "nbformat": 4,
  "cells": [
    {
      "cell_type": "markdown",
      "source": "# Practice Exercises",
      "metadata": {}
    },
    {
      "cell_type": "markdown",
      "source": "### Task 1: Insert a new Markdown cell  with the text as **Evaluating Basic Arithmetic Expression**.",
      "metadata": {}
    },
    {
      "cell_type": "markdown",
      "source": "<details><summary>Click here for the solution</summary>\nEvaluating Basic Arithmetic Expression\n\nHere you will be evaluating a basic arithmetic expression containing addition and multiplication operations.\n\n</details>",
      "metadata": {}
    },
    {
      "cell_type": "markdown",
      "source": "### Task 2: Insert a new code cell below and use this **expression** <code>(20+5)*4</code> and **execute** it.",
      "metadata": {}
    },
    {
      "cell_type": "markdown",
      "source": "<details><summary>Click here for the solution</summary>\n\n```python\n(20+5)*4\n\n```\n\n</details>",
      "metadata": {}
    },
    {
      "cell_type": "markdown",
      "source": "#### Task 3: In the cell below, add a comment as **Displaying a string message**. Add the line <code>\"Let us explore python without coding.\" </code>below the comment and execute it",
      "metadata": {}
    },
    {
      "cell_type": "code",
      "source": "## Write your markdown here",
      "metadata": {
        "trusted": true
      },
      "outputs": [],
      "execution_count": 21
    },
    {
      "cell_type": "markdown",
      "source": "<details><summary>Click here for the solution</summary>\n\n```python\n# Displaying a  string message\n\"Let us explore python without coding\"\n\n```\n\n</details>\n",
      "metadata": {}
    },
    {
      "cell_type": "markdown",
      "source": "#### (Bonus) Task 4: Split the code cell below after ```1+1```",
      "metadata": {}
    },
    {
      "cell_type": "code",
      "source": "## Click after 1+1 in this cell and split it\n1+1\n2*2",
      "metadata": {
        "trusted": true
      },
      "outputs": [
        {
          "execution_count": 22,
          "output_type": "execute_result",
          "data": {
            "text/plain": "4"
          },
          "metadata": {}
        }
      ],
      "execution_count": 22
    },
    {
      "cell_type": "markdown",
      "source": "<details><summary>Click here for the hint</summary>\n\nUse the Edit menu and select Split Cell\n\n<img src=\"https://cf-courses-data.s3.us.cloud-object-storage.appdomain.cloud/IBMDeveloperSkillsNetwork-DS0105EN-SkillsNetwork/labs/Labs_V4/images/splihint.png\">\n\n</details>\n",
      "metadata": {}
    },
    {
      "cell_type": "markdown",
      "source": "<details><summary>Click here for the solution</summary>\n\nClick the 2nd line and split it using Split Cell from the Edit menu.\n\n<img src=\"https://cf-courses-data.s3.us.cloud-object-storage.appdomain.cloud/IBMDeveloperSkillsNetwork-DS0105EN-SkillsNetwork/labs/Labs_V4/images/split1.png\">\n\nThe solutions looks as:\n\n<img src=\"https://cf-courses-data.s3.us.cloud-object-storage.appdomain.cloud/IBMDeveloperSkillsNetwork-DS0105EN-SkillsNetwork/labs/Labs_V4/images/splisol.png\">\n\n\n</details>",
      "metadata": {}
    },
    {
      "cell_type": "markdown",
      "source": "###  Thank you for completing this lab!",
      "metadata": {}
    },
    {
      "cell_type": "markdown",
      "source": "## Author\n\n[Lakshmi Holla](https://www.linkedin.com/in/lakshmi-holla-b39062149/?utm_medium=Exinfluencer&utm_source=Exinfluencer&utm_content=000026UJ&utm_term=10006555&utm_id=NA-SkillsNetwork-Channel-SkillsNetworkCoursesIBMDeveloperSkillsNetworkDS0105ENSkillsNetwork984-2022-01-01)\n\n[Malika Singla](https://www.linkedin.com/in/malika-goyal-04798622/?utm_medium=Exinfluencer&utm_source=Exinfluencer&utm_content=000026UJ&utm_term=10006555&utm_id=NA-SkillsNetwork-Channel-SkillsNetworkCoursesIBMDeveloperSkillsNetworkDS0105ENSkillsNetwork984-2022-01-01)\n\n\n\n## Change Log\n\n| Date (YYYY-MM-DD) | Version | Changed By | Change Description                 |\n| ----------------- | ------- | ---------- | ---------------------------------- |\n| 2022-09-30        | 0.1     | Lakshmi Holla     | Created Initial version    |\n\n\n## <h3 align=\"center\"> © IBM Corporation 2022. All rights reserved. <h3/>\n",
      "metadata": {}
    }
  ]
}