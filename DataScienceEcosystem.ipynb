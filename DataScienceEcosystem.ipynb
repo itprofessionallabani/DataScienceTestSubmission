{
 "cells": [
  {
   "cell_type": "markdown",
   "id": "996483c8",
   "metadata": {
    "tags": []
   },
   "source": [
    "# Data Science Tools and Ecosystem"
   ]
  },
  {
   "cell_type": "markdown",
   "id": "c8534af3-7959-4216-a19b-2b171ab5cfe5",
   "metadata": {},
   "source": [
    "In this notebook, Data Science Tools and Ecosystem are summarized."
   ]
  },
  {
   "cell_type": "markdown",
   "id": "5a07edd3-583a-4c21-acef-74a9f444c995",
   "metadata": {},
   "source": [
    "List popular languages for Data Science\n",
    "* **Python**\n",
    "* **R**\n",
    "* **SQL**\n",
    "* **Scala**\n",
    "* **Julia**\n"
   ]
  },
  {
   "cell_type": "markdown",
   "id": "abb95547-5908-4441-b2bc-9c84929b0281",
   "metadata": {},
   "source": [
    "Some of the popular languages that Data Scientists use are:\n",
    "1. Python\n",
    "2. R\n",
    "3. SQL\n",
    "4. Scala\n",
    "5. Julia"
   ]
  },
  {
   "cell_type": "markdown",
   "id": "6f3ebdbe-db00-4d3b-b76c-2c48b3267905",
   "metadata": {},
   "source": [
    "Some of the commonly used libraries used by Data Scientists include:\n",
    "1. TensorFlow\n",
    "2. NumPy\n",
    "3. SciPy\n",
    "4. Pandas\n",
    "5. Matplotlib\n",
    "6. Keras\n",
    "7. SciKit-Learn\n",
    "8. PyTorch"
   ]
  },
  {
   "cell_type": "markdown",
   "id": "394af764-2661-4df8-b63d-166997e2f322",
   "metadata": {},
   "source": [
    "|Data Science Tools|\n",
    "|-------------|\n",
    "|Rstudio|\n",
    "|Apache Spark|\n",
    "|Jupyter NoteBook|",
    
   ]
  },
  {
   "cell_type": "markdown",
   "id": "c58acfc6-8d49-4e5d-845f-1576e189ee78",
   "metadata": {
    "tags": []
   },
   "source": [
    "### Below are a few examples of evaluating arithmetic expressions in Python"
   ]
  },
  {
   "cell_type": "markdown",
   "id": "3b1f9d82-e19c-4725-b5d3-868993cdfa55",
   "metadata": {
    "tags": []
   },
   "source": [
    "This a simple arithmetic expression to mutiply then add integers"
   ]
  },
  {
   "cell_type": "code",
   "execution_count": 8,
   "id": "57a5e454-6410-4a59-97b9-b2bbaa49054b",
   "metadata": {
    "tags": []
   },
   "outputs": [
    {
     "data": {
      "text/plain": [
       "17"
      ]
     },
     "execution_count": 8,
     "metadata": {},
     "output_type": "execute_result"
    }
   ],
   "source": [
    "(3*4)+5"
   ]
  },
  {
   "cell_type": "markdown",
   "id": "a3f72770-1f1c-4994-8a22-e485f5dd2f67",
   "metadata": {
    "tags": []
   },
   "source": [
    "This will convert 200 minutes to hours by diving by 60"
   ]
  },
  {
   "cell_type": "code",
   "execution_count": 10,
   "id": "b316fc1d-474f-4bac-9fde-f21b2b9feb0d",
   "metadata": {
    "tags": []
   },
   "outputs": [
    {
     "data": {
      "text/plain": [
       "3.3333333333333335"
      ]
     },
     "execution_count": 10,
     "metadata": {},
     "output_type": "execute_result"
    }
   ],
   "source": [
    "(200/60)"
   ]
  },
  {
   "cell_type": "markdown",
   "id": "db7b662b-bffd-4817-a118-eb65fc1331be",
   "metadata": {
    "tags": []
   },
   "source": [
    "## Author\n",
    "\n",
    "Labani Maity"
   ]
  }
 ],
 "metadata": {
  "kernelspec": {
   "display_name": "Python",
   "language": "python",
   "name": "conda-env-python-py"
  },
  "language_info": {
   "codemirror_mode": {
    "name": "ipython",
    "version": 3
   },
   "file_extension": ".py",
   "mimetype": "text/x-python",
   "name": "python",
   "nbconvert_exporter": "python",
   "pygments_lexer": "ipython3",
   "version": "3.7.12"
  }
 },
 "nbformat": 4,
 "nbformat_minor": 5
}
